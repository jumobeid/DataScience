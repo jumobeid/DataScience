{
 "cells": [
  {
   "cell_type": "code",
   "execution_count": 134,
   "id": "d1c528b3",
   "metadata": {},
   "outputs": [],
   "source": [
    "#Load Libraries\n",
    "import pandas as pd\n",
    "import numpy as np\n",
    "import matplotlib.pyplot as plt\n",
    "%matplotlib inline\n",
    "import seaborn as sns"
   ]
  },
  {
   "cell_type": "code",
   "execution_count": 135,
   "id": "9b0687d1",
   "metadata": {},
   "outputs": [
    {
     "data": {
      "text/html": [
       "<div>\n",
       "<style scoped>\n",
       "    .dataframe tbody tr th:only-of-type {\n",
       "        vertical-align: middle;\n",
       "    }\n",
       "\n",
       "    .dataframe tbody tr th {\n",
       "        vertical-align: top;\n",
       "    }\n",
       "\n",
       "    .dataframe thead th {\n",
       "        text-align: right;\n",
       "    }\n",
       "</style>\n",
       "<table border=\"1\" class=\"dataframe\">\n",
       "  <thead>\n",
       "    <tr style=\"text-align: right;\">\n",
       "      <th></th>\n",
       "      <th>Fresh</th>\n",
       "      <th>Milk</th>\n",
       "      <th>Grocery</th>\n",
       "      <th>Frozen</th>\n",
       "      <th>Detergents_Paper</th>\n",
       "      <th>Delicassen</th>\n",
       "      <th>Region</th>\n",
       "      <th>Channel</th>\n",
       "    </tr>\n",
       "  </thead>\n",
       "  <tbody>\n",
       "    <tr>\n",
       "      <th>0</th>\n",
       "      <td>12669</td>\n",
       "      <td>9656</td>\n",
       "      <td>7561</td>\n",
       "      <td>214</td>\n",
       "      <td>2674</td>\n",
       "      <td>1338</td>\n",
       "      <td>3</td>\n",
       "      <td>2</td>\n",
       "    </tr>\n",
       "    <tr>\n",
       "      <th>1</th>\n",
       "      <td>7057</td>\n",
       "      <td>9810</td>\n",
       "      <td>9568</td>\n",
       "      <td>1762</td>\n",
       "      <td>3293</td>\n",
       "      <td>1776</td>\n",
       "      <td>3</td>\n",
       "      <td>2</td>\n",
       "    </tr>\n",
       "    <tr>\n",
       "      <th>2</th>\n",
       "      <td>6353</td>\n",
       "      <td>8808</td>\n",
       "      <td>7684</td>\n",
       "      <td>2405</td>\n",
       "      <td>3516</td>\n",
       "      <td>7844</td>\n",
       "      <td>3</td>\n",
       "      <td>2</td>\n",
       "    </tr>\n",
       "    <tr>\n",
       "      <th>3</th>\n",
       "      <td>13265</td>\n",
       "      <td>1196</td>\n",
       "      <td>4221</td>\n",
       "      <td>6404</td>\n",
       "      <td>507</td>\n",
       "      <td>1788</td>\n",
       "      <td>3</td>\n",
       "      <td>1</td>\n",
       "    </tr>\n",
       "    <tr>\n",
       "      <th>4</th>\n",
       "      <td>22615</td>\n",
       "      <td>5410</td>\n",
       "      <td>7198</td>\n",
       "      <td>3915</td>\n",
       "      <td>1777</td>\n",
       "      <td>5185</td>\n",
       "      <td>3</td>\n",
       "      <td>2</td>\n",
       "    </tr>\n",
       "  </tbody>\n",
       "</table>\n",
       "</div>"
      ],
      "text/plain": [
       "   Fresh  Milk  Grocery  Frozen  Detergents_Paper  Delicassen  Region  Channel\n",
       "0  12669  9656     7561     214              2674        1338       3        2\n",
       "1   7057  9810     9568    1762              3293        1776       3        2\n",
       "2   6353  8808     7684    2405              3516        7844       3        2\n",
       "3  13265  1196     4221    6404               507        1788       3        1\n",
       "4  22615  5410     7198    3915              1777        5185       3        2"
      ]
     },
     "execution_count": 135,
     "metadata": {},
     "output_type": "execute_result"
    }
   ],
   "source": [
    "#Load Dataset\n",
    "dataset = pd.read_csv(r'C:\\Python\\ChannelDataset.csv')\n",
    "dataset.head()"
   ]
  },
  {
   "cell_type": "code",
   "execution_count": 136,
   "id": "caf16f58",
   "metadata": {},
   "outputs": [
    {
     "data": {
      "text/html": [
       "<div>\n",
       "<style scoped>\n",
       "    .dataframe tbody tr th:only-of-type {\n",
       "        vertical-align: middle;\n",
       "    }\n",
       "\n",
       "    .dataframe tbody tr th {\n",
       "        vertical-align: top;\n",
       "    }\n",
       "\n",
       "    .dataframe thead th {\n",
       "        text-align: right;\n",
       "    }\n",
       "</style>\n",
       "<table border=\"1\" class=\"dataframe\">\n",
       "  <thead>\n",
       "    <tr style=\"text-align: right;\">\n",
       "      <th></th>\n",
       "      <th>Fresh</th>\n",
       "      <th>Milk</th>\n",
       "      <th>Grocery</th>\n",
       "      <th>Frozen</th>\n",
       "      <th>Detergents_Paper</th>\n",
       "      <th>Delicassen</th>\n",
       "      <th>Region</th>\n",
       "    </tr>\n",
       "  </thead>\n",
       "  <tbody>\n",
       "    <tr>\n",
       "      <th>29</th>\n",
       "      <td>43088</td>\n",
       "      <td>2100</td>\n",
       "      <td>2609</td>\n",
       "      <td>1200</td>\n",
       "      <td>1107</td>\n",
       "      <td>823</td>\n",
       "      <td>3</td>\n",
       "    </tr>\n",
       "    <tr>\n",
       "      <th>39</th>\n",
       "      <td>56159</td>\n",
       "      <td>555</td>\n",
       "      <td>902</td>\n",
       "      <td>10002</td>\n",
       "      <td>212</td>\n",
       "      <td>2916</td>\n",
       "      <td>3</td>\n",
       "    </tr>\n",
       "    <tr>\n",
       "      <th>47</th>\n",
       "      <td>44466</td>\n",
       "      <td>54259</td>\n",
       "      <td>55571</td>\n",
       "      <td>7782</td>\n",
       "      <td>24171</td>\n",
       "      <td>6465</td>\n",
       "      <td>3</td>\n",
       "    </tr>\n",
       "    <tr>\n",
       "      <th>52</th>\n",
       "      <td>40721</td>\n",
       "      <td>3916</td>\n",
       "      <td>5876</td>\n",
       "      <td>532</td>\n",
       "      <td>2587</td>\n",
       "      <td>1278</td>\n",
       "      <td>3</td>\n",
       "    </tr>\n",
       "    <tr>\n",
       "      <th>87</th>\n",
       "      <td>43265</td>\n",
       "      <td>5025</td>\n",
       "      <td>8117</td>\n",
       "      <td>6312</td>\n",
       "      <td>1579</td>\n",
       "      <td>14351</td>\n",
       "      <td>3</td>\n",
       "    </tr>\n",
       "    <tr>\n",
       "      <th>...</th>\n",
       "      <td>...</td>\n",
       "      <td>...</td>\n",
       "      <td>...</td>\n",
       "      <td>...</td>\n",
       "      <td>...</td>\n",
       "      <td>...</td>\n",
       "      <td>...</td>\n",
       "    </tr>\n",
       "    <tr>\n",
       "      <th>202</th>\n",
       "      <td>25203</td>\n",
       "      <td>11487</td>\n",
       "      <td>9490</td>\n",
       "      <td>5065</td>\n",
       "      <td>284</td>\n",
       "      <td>6854</td>\n",
       "      <td>1</td>\n",
       "    </tr>\n",
       "    <tr>\n",
       "      <th>218</th>\n",
       "      <td>18</td>\n",
       "      <td>7504</td>\n",
       "      <td>15205</td>\n",
       "      <td>1285</td>\n",
       "      <td>4797</td>\n",
       "      <td>6372</td>\n",
       "      <td>1</td>\n",
       "    </tr>\n",
       "    <tr>\n",
       "      <th>372</th>\n",
       "      <td>3884</td>\n",
       "      <td>3801</td>\n",
       "      <td>1641</td>\n",
       "      <td>876</td>\n",
       "      <td>397</td>\n",
       "      <td>4829</td>\n",
       "      <td>3</td>\n",
       "    </tr>\n",
       "    <tr>\n",
       "      <th>409</th>\n",
       "      <td>8708</td>\n",
       "      <td>3634</td>\n",
       "      <td>6100</td>\n",
       "      <td>2349</td>\n",
       "      <td>2123</td>\n",
       "      <td>5137</td>\n",
       "      <td>3</td>\n",
       "    </tr>\n",
       "    <tr>\n",
       "      <th>411</th>\n",
       "      <td>2126</td>\n",
       "      <td>3289</td>\n",
       "      <td>3281</td>\n",
       "      <td>1535</td>\n",
       "      <td>235</td>\n",
       "      <td>4365</td>\n",
       "      <td>3</td>\n",
       "    </tr>\n",
       "  </tbody>\n",
       "</table>\n",
       "<p>108 rows × 7 columns</p>\n",
       "</div>"
      ],
      "text/plain": [
       "     Fresh   Milk  Grocery  Frozen  Detergents_Paper  Delicassen  Region\n",
       "29   43088   2100     2609    1200              1107         823       3\n",
       "39   56159    555      902   10002               212        2916       3\n",
       "47   44466  54259    55571    7782             24171        6465       3\n",
       "52   40721   3916     5876     532              2587        1278       3\n",
       "87   43265   5025     8117    6312              1579       14351       3\n",
       "..     ...    ...      ...     ...               ...         ...     ...\n",
       "202  25203  11487     9490    5065               284        6854       1\n",
       "218     18   7504    15205    1285              4797        6372       1\n",
       "372   3884   3801     1641     876               397        4829       3\n",
       "409   8708   3634     6100    2349              2123        5137       3\n",
       "411   2126   3289     3281    1535               235        4365       3\n",
       "\n",
       "[108 rows x 7 columns]"
      ]
     },
     "execution_count": 136,
     "metadata": {},
     "output_type": "execute_result"
    }
   ],
   "source": [
    "#Tukey Method\n",
    "\n",
    "# Import required libraries\n",
    "from collections import Counter\n",
    "\n",
    "# Outlier detection \n",
    "def detect_outliers(df,n,features):\n",
    "    \n",
    "    outlier_indices = []\n",
    "    \n",
    "    # iterate over features(columns)\n",
    "    for col in features:\n",
    "        # 1st quartile (25%)\n",
    "        Q1 = np.percentile(df[col], 25)\n",
    "        # 3rd quartile (75%)\n",
    "        Q3 = np.percentile(df[col],75)\n",
    "        # Interquartile range (IQR)\n",
    "        IQR = Q3 - Q1\n",
    "        \n",
    "        # outlier step\n",
    "        outlier_step = 1.5 * IQR\n",
    "        \n",
    "        # Determine a list of indices of outliers for feature col\n",
    "        outlier_list_col = df[(df[col] < Q1 - outlier_step) | (df[col] > Q3 + outlier_step )].index\n",
    "        \n",
    "        # append the found outlier indices for col to the list of outlier indices \n",
    "        outlier_indices.extend(outlier_list_col)\n",
    "        \n",
    "    # select observations containing more than 2 outliers\n",
    "    outlier_indices = Counter(outlier_indices)        \n",
    "    multiple_outliers = list( k for k, v in outlier_indices.items() if v > n )\n",
    "    \n",
    "    return multiple_outliers   \n",
    "\n",
    "# List of Outliers\n",
    "Outliers_to_drop = detect_outliers(dataset.drop('Channel', axis=1),0,list(dataset.drop('Channel', axis=1)))\n",
    "dataset.drop('Channel', axis=1).loc[Outliers_to_drop]"
   ]
  },
  {
   "cell_type": "code",
   "execution_count": 137,
   "id": "020b6ff9",
   "metadata": {},
   "outputs": [
    {
     "name": "stdout",
     "output_type": "stream",
     "text": [
      "<class 'pandas.core.frame.DataFrame'>\n",
      "RangeIndex: 332 entries, 0 to 331\n",
      "Data columns (total 8 columns):\n",
      " #   Column            Non-Null Count  Dtype\n",
      "---  ------            --------------  -----\n",
      " 0   Fresh             332 non-null    int64\n",
      " 1   Milk              332 non-null    int64\n",
      " 2   Grocery           332 non-null    int64\n",
      " 3   Frozen            332 non-null    int64\n",
      " 4   Detergents_Paper  332 non-null    int64\n",
      " 5   Delicassen        332 non-null    int64\n",
      " 6   Region            332 non-null    int64\n",
      " 7   Channel           332 non-null    int64\n",
      "dtypes: int64(8)\n",
      "memory usage: 20.9 KB\n"
     ]
    }
   ],
   "source": [
    "#Create New Dataset without Outliers\n",
    "dataset=dataset.drop(dataset.index[Outliers_to_drop]).reset_index(drop = True)\n",
    "dataset.info()"
   ]
  },
  {
   "cell_type": "code",
   "execution_count": 138,
   "id": "db6e257a",
   "metadata": {},
   "outputs": [
    {
     "data": {
      "text/html": [
       "<div>\n",
       "<style scoped>\n",
       "    .dataframe tbody tr th:only-of-type {\n",
       "        vertical-align: middle;\n",
       "    }\n",
       "\n",
       "    .dataframe tbody tr th {\n",
       "        vertical-align: top;\n",
       "    }\n",
       "\n",
       "    .dataframe thead th {\n",
       "        text-align: right;\n",
       "    }\n",
       "</style>\n",
       "<table border=\"1\" class=\"dataframe\">\n",
       "  <thead>\n",
       "    <tr style=\"text-align: right;\">\n",
       "      <th></th>\n",
       "      <th>Fresh</th>\n",
       "      <th>Milk</th>\n",
       "      <th>Grocery</th>\n",
       "      <th>Frozen</th>\n",
       "      <th>Detergents_Paper</th>\n",
       "      <th>Delicassen</th>\n",
       "      <th>Region</th>\n",
       "      <th>Channel</th>\n",
       "    </tr>\n",
       "  </thead>\n",
       "  <tbody>\n",
       "    <tr>\n",
       "      <th>count</th>\n",
       "      <td>332.000000</td>\n",
       "      <td>332.000000</td>\n",
       "      <td>332.000000</td>\n",
       "      <td>332.000000</td>\n",
       "      <td>332.000000</td>\n",
       "      <td>332.000000</td>\n",
       "      <td>332.000000</td>\n",
       "      <td>332.000000</td>\n",
       "    </tr>\n",
       "    <tr>\n",
       "      <th>mean</th>\n",
       "      <td>9547.397590</td>\n",
       "      <td>4105.180723</td>\n",
       "      <td>5875.614458</td>\n",
       "      <td>1863.048193</td>\n",
       "      <td>1958.975904</td>\n",
       "      <td>1016.602410</td>\n",
       "      <td>2.539157</td>\n",
       "      <td>1.286145</td>\n",
       "    </tr>\n",
       "    <tr>\n",
       "      <th>std</th>\n",
       "      <td>8161.831206</td>\n",
       "      <td>3363.303146</td>\n",
       "      <td>5038.930756</td>\n",
       "      <td>1707.890373</td>\n",
       "      <td>2347.470292</td>\n",
       "      <td>824.356784</td>\n",
       "      <td>0.782148</td>\n",
       "      <td>0.452640</td>\n",
       "    </tr>\n",
       "    <tr>\n",
       "      <th>min</th>\n",
       "      <td>3.000000</td>\n",
       "      <td>55.000000</td>\n",
       "      <td>3.000000</td>\n",
       "      <td>25.000000</td>\n",
       "      <td>3.000000</td>\n",
       "      <td>3.000000</td>\n",
       "      <td>1.000000</td>\n",
       "      <td>1.000000</td>\n",
       "    </tr>\n",
       "    <tr>\n",
       "      <th>25%</th>\n",
       "      <td>2989.750000</td>\n",
       "      <td>1352.500000</td>\n",
       "      <td>2011.500000</td>\n",
       "      <td>582.000000</td>\n",
       "      <td>231.750000</td>\n",
       "      <td>360.750000</td>\n",
       "      <td>2.000000</td>\n",
       "      <td>1.000000</td>\n",
       "    </tr>\n",
       "    <tr>\n",
       "      <th>50%</th>\n",
       "      <td>7483.500000</td>\n",
       "      <td>3087.000000</td>\n",
       "      <td>3835.500000</td>\n",
       "      <td>1270.500000</td>\n",
       "      <td>715.500000</td>\n",
       "      <td>774.000000</td>\n",
       "      <td>3.000000</td>\n",
       "      <td>1.000000</td>\n",
       "    </tr>\n",
       "    <tr>\n",
       "      <th>75%</th>\n",
       "      <td>13987.250000</td>\n",
       "      <td>6251.750000</td>\n",
       "      <td>8928.500000</td>\n",
       "      <td>2587.500000</td>\n",
       "      <td>3461.250000</td>\n",
       "      <td>1456.000000</td>\n",
       "      <td>3.000000</td>\n",
       "      <td>2.000000</td>\n",
       "    </tr>\n",
       "    <tr>\n",
       "      <th>max</th>\n",
       "      <td>37036.000000</td>\n",
       "      <td>14982.000000</td>\n",
       "      <td>22272.000000</td>\n",
       "      <td>7683.000000</td>\n",
       "      <td>8969.000000</td>\n",
       "      <td>3637.000000</td>\n",
       "      <td>3.000000</td>\n",
       "      <td>2.000000</td>\n",
       "    </tr>\n",
       "  </tbody>\n",
       "</table>\n",
       "</div>"
      ],
      "text/plain": [
       "              Fresh          Milk       Grocery       Frozen  \\\n",
       "count    332.000000    332.000000    332.000000   332.000000   \n",
       "mean    9547.397590   4105.180723   5875.614458  1863.048193   \n",
       "std     8161.831206   3363.303146   5038.930756  1707.890373   \n",
       "min        3.000000     55.000000      3.000000    25.000000   \n",
       "25%     2989.750000   1352.500000   2011.500000   582.000000   \n",
       "50%     7483.500000   3087.000000   3835.500000  1270.500000   \n",
       "75%    13987.250000   6251.750000   8928.500000  2587.500000   \n",
       "max    37036.000000  14982.000000  22272.000000  7683.000000   \n",
       "\n",
       "       Detergents_Paper   Delicassen      Region     Channel  \n",
       "count        332.000000   332.000000  332.000000  332.000000  \n",
       "mean        1958.975904  1016.602410    2.539157    1.286145  \n",
       "std         2347.470292   824.356784    0.782148    0.452640  \n",
       "min            3.000000     3.000000    1.000000    1.000000  \n",
       "25%          231.750000   360.750000    2.000000    1.000000  \n",
       "50%          715.500000   774.000000    3.000000    1.000000  \n",
       "75%         3461.250000  1456.000000    3.000000    2.000000  \n",
       "max         8969.000000  3637.000000    3.000000    2.000000  "
      ]
     },
     "execution_count": 138,
     "metadata": {},
     "output_type": "execute_result"
    }
   ],
   "source": [
    "dataset.describe()"
   ]
  },
  {
   "cell_type": "code",
   "execution_count": 139,
   "id": "8e9346d7",
   "metadata": {},
   "outputs": [
    {
     "data": {
      "application/vnd.jupyter.widget-view+json": {
       "model_id": "8b1ba4c377974447b83815b7a4456c3e",
       "version_major": 2,
       "version_minor": 0
      },
      "text/plain": [
       "Summarize dataset:   0%|          | 0/21 [00:00<?, ?it/s]"
      ]
     },
     "metadata": {},
     "output_type": "display_data"
    },
    {
     "data": {
      "application/vnd.jupyter.widget-view+json": {
       "model_id": "381f49272ff34c52b9081e5e9c086c46",
       "version_major": 2,
       "version_minor": 0
      },
      "text/plain": [
       "Generate report structure:   0%|          | 0/1 [00:00<?, ?it/s]"
      ]
     },
     "metadata": {},
     "output_type": "display_data"
    },
    {
     "data": {
      "application/vnd.jupyter.widget-view+json": {
       "model_id": "866e44ffdbd94a5da5a64684429e126f",
       "version_major": 2,
       "version_minor": 0
      },
      "text/plain": [
       "Render HTML:   0%|          | 0/1 [00:00<?, ?it/s]"
      ]
     },
     "metadata": {},
     "output_type": "display_data"
    },
    {
     "data": {
      "application/vnd.jupyter.widget-view+json": {
       "model_id": "a51cedf975c54574b8b3d9008c3dc67c",
       "version_major": 2,
       "version_minor": 0
      },
      "text/plain": [
       "Export report to file:   0%|          | 0/1 [00:00<?, ?it/s]"
      ]
     },
     "metadata": {},
     "output_type": "display_data"
    },
    {
     "data": {
      "text/html": [
       "\n",
       "        <iframe\n",
       "            width=\"900\"\n",
       "            height=\"350\"\n",
       "            src=\"spending.html\"\n",
       "            frameborder=\"0\"\n",
       "            allowfullscreen\n",
       "        ></iframe>\n",
       "        "
      ],
      "text/plain": [
       "<IPython.lib.display.IFrame at 0x2e26579e0a0>"
      ]
     },
     "metadata": {},
     "output_type": "display_data"
    }
   ],
   "source": [
    "#Create Profile Report\n",
    " \n",
    "#Importing package\n",
    "import pandas_profiling as pp\n",
    "from IPython.display import IFrame\n",
    " \n",
    "# Profile Report\n",
    "SpendingReport = pp.ProfileReport(dataset)\n",
    "SpendingReport.to_file('spending.html')\n",
    "display(IFrame('spending.html', width=900, height=350))"
   ]
  },
  {
   "cell_type": "code",
   "execution_count": 140,
   "id": "ec5086a7",
   "metadata": {},
   "outputs": [
    {
     "data": {
      "text/plain": [
       "<AxesSubplot:>"
      ]
     },
     "execution_count": 140,
     "metadata": {},
     "output_type": "execute_result"
    },
    {
     "data": {
      "image/png": "[encoded data removed]",
      "text/plain": [
       "<Figure size 720x360 with 2 Axes>"
      ]
     },
     "metadata": {
      "needs_background": "light"
     },
     "output_type": "display_data"
    }
   ],
   "source": [
    "#Visualization of Correlations\n",
    "fig = plt.figure(figsize=(10,5))\n",
    "sns.heatmap(dataset.corr(),annot=True,cmap=\"Blues\")"
   ]
  },
  {
   "cell_type": "code",
   "execution_count": 141,
   "id": "d9456fb8",
   "metadata": {},
   "outputs": [
    {
     "name": "stdout",
     "output_type": "stream",
     "text": [
      "Correlated columns @ 0.8: [('Detergents_Paper', 'Grocery')]\n"
     ]
    }
   ],
   "source": [
    "#Find Independent Column Correlations\n",
    "def correlation(dataset,threshold):\n",
    "    col_corr= [] # List of correlated columns\n",
    "    corr_matrix=dataset.corr() #finding correlation between columns\n",
    "    for i in range (len(corr_matrix.columns)): #Number of columns\n",
    "        for j in range (i):\n",
    "            if abs(corr_matrix.iloc[i,j])>threshold: #checking correlation between columns\n",
    "                colName=(corr_matrix.columns[i], corr_matrix.columns[j]) #getting correlated columns\n",
    "                col_corr.append(colName) #adding correlated column name\n",
    "    return col_corr #returning set of column names\n",
    "col=correlation(dataset,0.8)\n",
    "print('Correlated columns @ 0.8:', col)"
   ]
  },
  {
   "cell_type": "code",
   "execution_count": 142,
   "id": "a038202c",
   "metadata": {},
   "outputs": [
    {
     "name": "stdout",
     "output_type": "stream",
     "text": [
      "Class Split\n",
      "1    237\n",
      "2     95\n",
      "Name: Channel, dtype: int64\n"
     ]
    },
    {
     "data": {
      "text/plain": [
       "Text(0, 0.5, 'Count')"
      ]
     },
     "execution_count": 142,
     "metadata": {},
     "output_type": "execute_result"
    },
    {
     "data": {
      "image/png": "[encoded data removed]",
      "text/plain": [
       "<Figure size 720x288 with 1 Axes>"
      ]
     },
     "metadata": {
      "needs_background": "light"
     },
     "output_type": "display_data"
    }
   ],
   "source": [
    "#Class Balance\n",
    "print('Class Split')\n",
    "print(dataset['Channel'].value_counts())\n",
    "dataset['Channel'].value_counts().plot.bar(figsize=(10,4),title='Classes Split for Dataset')\n",
    "plt.xlabel('Classes')\n",
    "plt.ylabel('Count')"
   ]
  },
  {
   "cell_type": "code",
   "execution_count": 143,
   "id": "86135f2f",
   "metadata": {},
   "outputs": [],
   "source": [
    "#Define x and y variable\n",
    "x = dataset.drop('Channel',axis=1).to_numpy()\n",
    "y = dataset['Channel'].to_numpy()\n",
    "\n",
    "#Prepare for Models for Comparison\n",
    "\n",
    "#Create Train and Test Datasets\n",
    "from sklearn.model_selection import train_test_split\n",
    "x_train,x_test,y_train,y_test = train_test_split(x,y,test_size = 0.2,stratify=y,random_state = 100)\n",
    "\n",
    "#Fix the imbalanced Classes\n",
    "from imblearn.over_sampling import SMOTE\n",
    "smt=SMOTE(random_state=100)\n",
    "x_train_smt,y_train_smt = smt.fit_resample(x_train,y_train)\n",
    "\n",
    "#Scale the Data\n",
    "from sklearn.preprocessing import StandardScaler\n",
    "sc = StandardScaler()\n",
    "x_train2 = sc.fit_transform(x_train_smt)\n",
    "x_test2 = sc.transform(x_test)\n",
    "\n",
    "x_2 = sc.transform(x)"
   ]
  },
  {
   "cell_type": "code",
   "execution_count": 144,
   "id": "10059d70",
   "metadata": {},
   "outputs": [],
   "source": [
    "#Construct some pipelines \n",
    "from sklearn.pipeline import Pipeline\n",
    "from sklearn.preprocessing import StandardScaler\n",
    "\n",
    "#Create Pipeline\n",
    "\n",
    "pipeline =[]\n",
    "\n",
    "\n",
    "pipe_rdf = Pipeline([('scl', StandardScaler()),\n",
    "                    ('clf', RandomForestClassifier(n_estimators=100,random_state=100))])  \n",
    "pipeline.insert(1,pipe_rdf)\n",
    "\n",
    "pipe_logreg = Pipeline([('scl', StandardScaler()),\n",
    "                    ('clf', LogisticRegression(solver='lbfgs',\n",
    "                                               class_weight='balanced',max_iter=1000,\n",
    "                                               random_state=100))])   \n",
    "pipeline.insert(2,pipe_logreg)\n",
    "    \n",
    "    \n",
    "# Set grid search params \n",
    "\n",
    "modelpara =[]\n",
    "\n",
    "param_gridrdf = {}\n",
    "modelpara.insert(0,param_gridrdf)\n",
    "\n",
    "\n",
    "param_gridlogreg = {'clf__C': [0.01, 0.1, 1, 10, 100], \n",
    "                    'clf__penalty': ['l2']}\n",
    "modelpara.insert(2,param_gridlogreg)"
   ]
  },
  {
   "cell_type": "code",
   "execution_count": 145,
   "id": "9bce4bfb",
   "metadata": {},
   "outputs": [],
   "source": [
    "#Define Plot for learning curve\n",
    "\n",
    "from sklearn.model_selection import learning_curve\n",
    "\n",
    "def plot_learning_curves(model):\n",
    "    train_sizes, train_scores, test_scores = learning_curve(estimator=model,\n",
    "                                                            X=x_train2, \n",
    "                                                            y=y_train_smt,\n",
    "                                                            train_sizes= np.linspace(0.1, 1.0, 10),\n",
    "                                                            cv=10,\n",
    "                                                            scoring='recall_weighted',random_state=100)\n",
    "    train_mean = np.mean(train_scores, axis=1)\n",
    "    train_std = np.std(train_scores, axis=1)\n",
    "    test_mean = np.mean(test_scores, axis=1)\n",
    "    test_std = np.std(test_scores, axis=1)\n",
    "    \n",
    "    plt.plot(train_sizes, train_mean,color='blue', marker='o', \n",
    "             markersize=5, label='training recall')\n",
    "    plt.fill_between(train_sizes, train_mean + train_std, train_mean - train_std,\n",
    "                     alpha=0.15, color='blue')\n",
    "\n",
    "    plt.plot(train_sizes, test_mean, color='green', linestyle='--', marker='s', markersize=5,\n",
    "             label='validation recall')\n",
    "    plt.fill_between(train_sizes, test_mean + test_std, test_mean - test_std,\n",
    "                     alpha=0.15, color='green')\n",
    "    plt.grid(True)\n",
    "    plt.xlabel('Number of training samples')\n",
    "    plt.ylabel('Recall')\n",
    "    plt.legend(loc='best')\n",
    "    plt.ylim([0.5, 1.01])\n",
    "    plt.show()"
   ]
  },
  {
   "cell_type": "code",
   "execution_count": 146,
   "id": "594ea398",
   "metadata": {},
   "outputs": [
    {
     "name": "stdout",
     "output_type": "stream",
     "text": [
      "\n",
      " Random Forest\n"
     ]
    },
    {
     "data": {
      "image/png": "[encoded data removed]",
      "text/plain": [
       "<Figure size 432x288 with 1 Axes>"
      ]
     },
     "metadata": {
      "needs_background": "light"
     },
     "output_type": "display_data"
    },
    {
     "name": "stdout",
     "output_type": "stream",
     "text": [
      "Logistic Regression Learning Curve\n"
     ]
    },
    {
     "data": {
      "image/png": "[encoded data removed]",
      "text/plain": [
       "<Figure size 432x288 with 1 Axes>"
      ]
     },
     "metadata": {
      "needs_background": "light"
     },
     "output_type": "display_data"
    }
   ],
   "source": [
    "#Plot Learning Curve\n",
    "print('\\n Random Forest')\n",
    "plot_learning_curves(pipe_rdf)\n",
    "print('Logistic Regression Learning Curve')\n",
    "plot_learning_curves(pipe_logreg)"
   ]
  },
  {
   "cell_type": "code",
   "execution_count": 147,
   "id": "0092dee9",
   "metadata": {},
   "outputs": [
    {
     "name": "stdout",
     "output_type": "stream",
     "text": [
      "Model Evaluation - Recall Score\n",
      "Logistic Regression 0.90 +/- 0.05\n",
      "Random Forest 0.91 +/- 0.04\n",
      "\n",
      "\n"
     ]
    },
    {
     "data": {
      "image/png": "[encoded data removed]",
      "text/plain": [
       "<Figure size 360x360 with 1 Axes>"
      ]
     },
     "metadata": {
      "needs_background": "light"
     },
     "output_type": "display_data"
    }
   ],
   "source": [
    "#Model Analysis\n",
    "from sklearn.model_selection import RepeatedKFold\n",
    "from sklearn.model_selection import cross_val_score\n",
    "\n",
    "models=[]\n",
    "models.append(('Logistic Regression',pipe_logreg))\n",
    "models.append(('Random Forest',pipe_rdf))\n",
    "\n",
    "\n",
    "#Model Evaluation\n",
    "results =[]\n",
    "names=[]\n",
    "scoring ='recall_weighted'\n",
    "print('Model Evaluation - Recall Score')\n",
    "for name, model in models:\n",
    "    rkf=RepeatedKFold(n_splits=10, n_repeats=5, random_state=100)\n",
    "    cv_results = cross_val_score(model,x,y,cv=rkf,scoring=scoring)\n",
    "    results.append(cv_results)\n",
    "    names.append(name)\n",
    "    print('{} {:.2f} +/- {:.2f}'.format(name,cv_results.mean(),cv_results.std()))\n",
    "print('\\n')\n",
    "\n",
    "fig = plt.figure(figsize=(5,5))\n",
    "fig.suptitle('Boxplot View')\n",
    "ax = fig.add_subplot(111)\n",
    "sns.boxplot(data=results)\n",
    "ax.set_xticklabels(names)\n",
    "plt.ylabel('Recall')\n",
    "plt.xlabel('Model')\n",
    "plt.show()"
   ]
  },
  {
   "cell_type": "code",
   "execution_count": 148,
   "id": "aa17e141",
   "metadata": {},
   "outputs": [],
   "source": [
    "#Define Gridsearch Function\n",
    "\n",
    "from sklearn.model_selection import GridSearchCV\n",
    "from sklearn.metrics import classification_report, confusion_matrix  \n",
    "\n",
    "def Gridsearch_cv(model, params):\n",
    "    \n",
    "    #Cross-validation Function\n",
    "    cv2=RepeatedKFold(n_splits=10, n_repeats=5, random_state=100)\n",
    "        \n",
    "    #GridSearch CV\n",
    "    gs_clf = GridSearchCV(model, params, cv=cv2,scoring='recall_weighted')\n",
    "    gs_clf = gs_clf.fit(x_train, y_train)\n",
    "    model = gs_clf.best_estimator_\n",
    "    \n",
    "    # Use best model and test data for final evaluation\n",
    "    y_pred = model.predict(x_test)\n",
    "    #Identify Best Parameters to Optimize the Model\n",
    "    bestpara=str(gs_clf.best_params_)\n",
    "    \n",
    "    #Output Heading\n",
    "    print('\\nOptimized Model')\n",
    "    print('\\nModel Name:',str(pipeline.named_steps['clf']))\n",
    "        \n",
    "    #Output Validation Statistics\n",
    "    target_names=['Outcome 0','Outcome 1']\n",
    "    print('\\nBest Parameters:',bestpara)\n",
    "    print('\\n', confusion_matrix(y_test,y_pred))  \n",
    "    print('\\n',classification_report(y_test,y_pred,target_names=target_names)) \n",
    "        \n",
    "    #Transform the variables into binary (0,1) - ROC Curve\n",
    "    from sklearn import preprocessing\n",
    "    Forecast1=pd.DataFrame(y_pred)\n",
    "    Outcome1=pd.DataFrame(y_test)\n",
    "    lb1 = preprocessing.LabelBinarizer()\n",
    "    OutcomeB1 =lb1.fit_transform(Outcome1)\n",
    "    ForecastB1 = lb1.fit_transform(Forecast1)\n",
    "    \n",
    "    #Setup the ROC Curve\n",
    "    from sklearn.metrics import roc_curve, auc\n",
    "    from sklearn import metrics\n",
    "    fpr, tpr, threshold = metrics.roc_curve(OutcomeB1, ForecastB1)\n",
    "    roc_auc = metrics.auc(fpr, tpr)\n",
    "    print('ROC Curve')\n",
    "    #Plot the ROC Curve\n",
    "    plt.title('Receiver Operating Characteristic')\n",
    "    plt.plot(fpr, tpr, 'b', label = 'AUC = %0.2f' % roc_auc)\n",
    "    plt.legend(loc = 'lower right')\n",
    "    plt.plot([0, 1], [0, 1],'r--')\n",
    "    plt.xlim([0, 1])\n",
    "    plt.ylim([0, 1])\n",
    "    plt.ylabel('True Positive Rate')\n",
    "    plt.xlabel('False Positive Rate')\n",
    "    plt.show()   "
   ]
  },
  {
   "cell_type": "code",
   "execution_count": 149,
   "id": "9313b7d7",
   "metadata": {},
   "outputs": [
    {
     "name": "stdout",
     "output_type": "stream",
     "text": [
      "\n",
      "Optimized Model\n",
      "\n",
      "Model Name: RandomForestClassifier(random_state=100)\n",
      "\n",
      "Best Parameters: {}\n",
      "\n",
      " [[44  4]\n",
      " [ 3 16]]\n",
      "\n",
      "               precision    recall  f1-score   support\n",
      "\n",
      "   Outcome 0       0.94      0.92      0.93        48\n",
      "   Outcome 1       0.80      0.84      0.82        19\n",
      "\n",
      "    accuracy                           0.90        67\n",
      "   macro avg       0.87      0.88      0.87        67\n",
      "weighted avg       0.90      0.90      0.90        67\n",
      "\n",
      "ROC Curve\n"
     ]
    },
    {
     "data": {
      "image/png": "[encoded data removed]",
      "text/plain": [
       "<Figure size 432x288 with 1 Axes>"
      ]
     },
     "metadata": {
      "needs_background": "light"
     },
     "output_type": "display_data"
    },
    {
     "name": "stdout",
     "output_type": "stream",
     "text": [
      "\n",
      "Optimized Model\n",
      "\n",
      "Model Name: LogisticRegression(class_weight='balanced', max_iter=1000, random_state=100)\n",
      "\n",
      "Best Parameters: {'clf__C': 0.01, 'clf__penalty': 'l2'}\n",
      "\n",
      " [[42  6]\n",
      " [ 2 17]]\n",
      "\n",
      "               precision    recall  f1-score   support\n",
      "\n",
      "   Outcome 0       0.95      0.88      0.91        48\n",
      "   Outcome 1       0.74      0.89      0.81        19\n",
      "\n",
      "    accuracy                           0.88        67\n",
      "   macro avg       0.85      0.88      0.86        67\n",
      "weighted avg       0.89      0.88      0.88        67\n",
      "\n",
      "ROC Curve\n"
     ]
    },
    {
     "data": {
      "image/png": "[encoded data removed]",
      "text/plain": [
       "<Figure size 432x288 with 1 Axes>"
      ]
     },
     "metadata": {
      "needs_background": "light"
     },
     "output_type": "display_data"
    }
   ],
   "source": [
    "#Run Models\n",
    "\n",
    "for pipeline, modelpara in zip(pipeline,modelpara):\n",
    "    Gridsearch_cv(pipeline,modelpara)"
   ]
  },
  {
   "cell_type": "code",
   "execution_count": 150,
   "id": "469c5171",
   "metadata": {},
   "outputs": [
    {
     "name": "stdout",
     "output_type": "stream",
     "text": [
      "\n",
      "Key Features: Index(['Grocery', 'Detergents_Paper'], dtype='object')\n"
     ]
    }
   ],
   "source": [
    "#Next Steps - Feature Selection using SelectFromModel\n",
    "from sklearn.feature_selection import SelectFromModel\n",
    "from sklearn.linear_model import LogisticRegressionCV\n",
    "clf = LogisticRegressionCV(cv=10)\n",
    "clf.fit(x_train2,y_train_smt)\n",
    "model = SelectFromModel(clf, prefit=True)\n",
    "feature_idx = model.get_support()\n",
    "feature_name = dataset.drop('Channel',axis=1).columns[feature_idx]\n",
    "print('\\nKey Features:',feature_name)"
   ]
  },
  {
   "cell_type": "code",
   "execution_count": 151,
   "id": "4afd7c8f",
   "metadata": {},
   "outputs": [],
   "source": [
    "#selecting important features\n",
    "dataset= dataset[['Grocery', 'Detergents_Paper','Channel']]"
   ]
  },
  {
   "cell_type": "code",
   "execution_count": 152,
   "id": "72f67b41",
   "metadata": {},
   "outputs": [
    {
     "data": {
      "text/html": [
       "<div>\n",
       "<style scoped>\n",
       "    .dataframe tbody tr th:only-of-type {\n",
       "        vertical-align: middle;\n",
       "    }\n",
       "\n",
       "    .dataframe tbody tr th {\n",
       "        vertical-align: top;\n",
       "    }\n",
       "\n",
       "    .dataframe thead th {\n",
       "        text-align: right;\n",
       "    }\n",
       "</style>\n",
       "<table border=\"1\" class=\"dataframe\">\n",
       "  <thead>\n",
       "    <tr style=\"text-align: right;\">\n",
       "      <th></th>\n",
       "      <th>Grocery</th>\n",
       "      <th>Detergents_Paper</th>\n",
       "      <th>Channel</th>\n",
       "    </tr>\n",
       "  </thead>\n",
       "  <tbody>\n",
       "    <tr>\n",
       "      <th>0</th>\n",
       "      <td>7561</td>\n",
       "      <td>2674</td>\n",
       "      <td>2</td>\n",
       "    </tr>\n",
       "    <tr>\n",
       "      <th>1</th>\n",
       "      <td>9568</td>\n",
       "      <td>3293</td>\n",
       "      <td>2</td>\n",
       "    </tr>\n",
       "    <tr>\n",
       "      <th>2</th>\n",
       "      <td>4221</td>\n",
       "      <td>507</td>\n",
       "      <td>1</td>\n",
       "    </tr>\n",
       "    <tr>\n",
       "      <th>3</th>\n",
       "      <td>5126</td>\n",
       "      <td>1795</td>\n",
       "      <td>2</td>\n",
       "    </tr>\n",
       "    <tr>\n",
       "      <th>4</th>\n",
       "      <td>6975</td>\n",
       "      <td>3140</td>\n",
       "      <td>2</td>\n",
       "    </tr>\n",
       "    <tr>\n",
       "      <th>...</th>\n",
       "      <td>...</td>\n",
       "      <td>...</td>\n",
       "      <td>...</td>\n",
       "    </tr>\n",
       "    <tr>\n",
       "      <th>327</th>\n",
       "      <td>4754</td>\n",
       "      <td>1328</td>\n",
       "      <td>1</td>\n",
       "    </tr>\n",
       "    <tr>\n",
       "      <th>328</th>\n",
       "      <td>1493</td>\n",
       "      <td>356</td>\n",
       "      <td>1</td>\n",
       "    </tr>\n",
       "    <tr>\n",
       "      <th>329</th>\n",
       "      <td>7994</td>\n",
       "      <td>2371</td>\n",
       "      <td>1</td>\n",
       "    </tr>\n",
       "    <tr>\n",
       "      <th>330</th>\n",
       "      <td>2232</td>\n",
       "      <td>168</td>\n",
       "      <td>1</td>\n",
       "    </tr>\n",
       "    <tr>\n",
       "      <th>331</th>\n",
       "      <td>2510</td>\n",
       "      <td>477</td>\n",
       "      <td>1</td>\n",
       "    </tr>\n",
       "  </tbody>\n",
       "</table>\n",
       "<p>332 rows × 3 columns</p>\n",
       "</div>"
      ],
      "text/plain": [
       "     Grocery  Detergents_Paper  Channel\n",
       "0       7561              2674        2\n",
       "1       9568              3293        2\n",
       "2       4221               507        1\n",
       "3       5126              1795        2\n",
       "4       6975              3140        2\n",
       "..       ...               ...      ...\n",
       "327     4754              1328        1\n",
       "328     1493               356        1\n",
       "329     7994              2371        1\n",
       "330     2232               168        1\n",
       "331     2510               477        1\n",
       "\n",
       "[332 rows x 3 columns]"
      ]
     },
     "execution_count": 152,
     "metadata": {},
     "output_type": "execute_result"
    }
   ],
   "source": [
    "dataset"
   ]
  },
  {
   "cell_type": "code",
   "execution_count": 153,
   "id": "996d82bf",
   "metadata": {},
   "outputs": [],
   "source": [
    "#Define x and y variable\n",
    "x = dataset.drop('Channel',axis=1).to_numpy()\n",
    "y = dataset['Channel'].to_numpy()\n",
    "\n",
    "#Prepare for Models for Comparison\n",
    "\n",
    "#Create Train and Test Datasets\n",
    "from sklearn.model_selection import train_test_split\n",
    "x_train,x_test,y_train,y_test = train_test_split(x,y,test_size = 0.2,stratify=y,random_state = 100)\n",
    "\n",
    "#Fix the imbalanced Classes\n",
    "from imblearn.over_sampling import SMOTE\n",
    "smt=SMOTE(random_state=100)\n",
    "x_train_smt,y_train_smt = smt.fit_resample(x_train,y_train)\n",
    "\n",
    "#Scale the Data\n",
    "from sklearn.preprocessing import StandardScaler\n",
    "sc = StandardScaler()\n",
    "x_train2 = sc.fit_transform(x_train_smt)\n",
    "x_test2 = sc.transform(x_test)\n",
    "\n",
    "x_2 = sc.transform(x)"
   ]
  },
  {
   "cell_type": "code",
   "execution_count": 154,
   "id": "4b4b6332",
   "metadata": {},
   "outputs": [],
   "source": [
    "#Prepare Models \n",
    "from sklearn import model_selection\n",
    "from sklearn.ensemble import RandomForestClassifier\n",
    "from sklearn.ensemble import GradientBoostingClassifier\n",
    "from sklearn.metrics import precision_score, recall_score\n",
    "from sklearn.linear_model import LogisticRegression"
   ]
  },
  {
   "cell_type": "code",
   "execution_count": 155,
   "id": "f650205a",
   "metadata": {},
   "outputs": [],
   "source": [
    "#Construct some pipelines \n",
    "from sklearn.pipeline import Pipeline\n",
    "from sklearn.preprocessing import StandardScaler\n",
    "\n",
    "#Create Pipeline\n",
    "\n",
    "pipeline =[]\n",
    "\n",
    "\n",
    "pipe_rdf = Pipeline([('scl', StandardScaler()),\n",
    "                    ('clf', RandomForestClassifier(n_estimators=100,random_state=100))])  \n",
    "pipeline.insert(1,pipe_rdf)\n",
    "\n",
    "pipe_logreg = Pipeline([('scl', StandardScaler()),\n",
    "                    ('clf', LogisticRegression(solver='lbfgs',\n",
    "                                               class_weight='balanced',max_iter=1000,\n",
    "                                               random_state=100))])   \n",
    "pipeline.insert(2,pipe_logreg)\n",
    "    \n",
    "    \n",
    "# Set grid search params \n",
    "\n",
    "modelpara =[]\n",
    "\n",
    "param_gridrdf = {}\n",
    "modelpara.insert(0,param_gridrdf)\n",
    "\n",
    "\n",
    "param_gridlogreg = {'clf__C': [0.01, 0.1, 1, 10, 100], \n",
    "                    'clf__penalty': ['l2']}\n",
    "modelpara.insert(2,param_gridlogreg)"
   ]
  },
  {
   "cell_type": "code",
   "execution_count": 156,
   "id": "23bbed3c",
   "metadata": {},
   "outputs": [],
   "source": [
    "#Define Plot for learning curve\n",
    "\n",
    "from sklearn.model_selection import learning_curve\n",
    "\n",
    "def plot_learning_curves(model):\n",
    "    train_sizes, train_scores, test_scores = learning_curve(estimator=model,\n",
    "                                                            X=x_train_smt, \n",
    "                                                            y=y_train_smt,\n",
    "                                                            train_sizes= np.linspace(0.1, 1.0, 10),\n",
    "                                                            cv=10,\n",
    "                                                            scoring='recall_weighted',random_state=100)\n",
    "    train_mean = np.mean(train_scores, axis=1)\n",
    "    train_std = np.std(train_scores, axis=1)\n",
    "    test_mean = np.mean(test_scores, axis=1)\n",
    "    test_std = np.std(test_scores, axis=1)\n",
    "    \n",
    "    plt.plot(train_sizes, train_mean,color='blue', marker='o', \n",
    "             markersize=5, label='training recall')\n",
    "    plt.fill_between(train_sizes, train_mean + train_std, train_mean - train_std,\n",
    "                     alpha=0.15, color='blue')\n",
    "\n",
    "    plt.plot(train_sizes, test_mean, color='green', linestyle='--', marker='s', markersize=5,\n",
    "             label='validation recall')\n",
    "    plt.fill_between(train_sizes, test_mean + test_std, test_mean - test_std,\n",
    "                     alpha=0.15, color='green')\n",
    "    plt.grid(True)\n",
    "    plt.xlabel('Number of training samples')\n",
    "    plt.ylabel('Recall')\n",
    "    plt.legend(loc='best')\n",
    "    plt.ylim([0.6, 1.0])\n",
    "    plt.show()"
   ]
  },
  {
   "cell_type": "code",
   "execution_count": 157,
   "id": "5a42bcbc",
   "metadata": {},
   "outputs": [
    {
     "name": "stdout",
     "output_type": "stream",
     "text": [
      "\n",
      " Random Forest\n"
     ]
    },
    {
     "data": {
      "image/png": "[encoded data removed]",
      "text/plain": [
       "<Figure size 432x288 with 1 Axes>"
      ]
     },
     "metadata": {
      "needs_background": "light"
     },
     "output_type": "display_data"
    },
    {
     "name": "stdout",
     "output_type": "stream",
     "text": [
      "\n",
      " Logistic Regression Learning Curve\n"
     ]
    },
    {
     "data": {
      "image/png": "[encoded data removed]",
      "text/plain": [
       "<Figure size 432x288 with 1 Axes>"
      ]
     },
     "metadata": {
      "needs_background": "light"
     },
     "output_type": "display_data"
    }
   ],
   "source": [
    "#Plot Learning Curve\n",
    "print('\\n Random Forest')\n",
    "plot_learning_curves(pipe_rdf)\n",
    "print('\\n Logistic Regression Learning Curve')\n",
    "plot_learning_curves(pipe_logreg)"
   ]
  },
  {
   "cell_type": "code",
   "execution_count": 159,
   "id": "8e05f378",
   "metadata": {},
   "outputs": [
    {
     "name": "stdout",
     "output_type": "stream",
     "text": [
      "Model Evaluation - Recall Score\n",
      "Logistic Regression 0.89 +/- 0.05\n",
      "Random Forest 0.88 +/- 0.05\n",
      "GBC 0.88 +/- 0.05\n",
      "\n",
      "\n"
     ]
    },
    {
     "data": {
      "image/png": "[encoded data removed]",
      "text/plain": [
       "<Figure size 1080x720 with 1 Axes>"
      ]
     },
     "metadata": {
      "needs_background": "light"
     },
     "output_type": "display_data"
    }
   ],
   "source": [
    "#Model Analysis\n",
    "from sklearn.model_selection import RepeatedKFold\n",
    "from sklearn.model_selection import cross_val_score\n",
    "\n",
    "models=[]\n",
    "models.append(('Logistic Regression',LogisticRegression(solver='lbfgs',class_weight='balanced',\n",
    "                                                        random_state=100)))\n",
    "models.append(('Random Forest',RandomForestClassifier(n_estimators=100,\n",
    "                                                      random_state=100)))\n",
    "\n",
    "models.append(('GBC',GradientBoostingClassifier(random_state=100)))\n",
    "\n",
    "#Model Evaluation\n",
    "results =[]\n",
    "names=[]\n",
    "scoring ='recall_weighted'\n",
    "print('Model Evaluation - Recall Score')\n",
    "for name, model in models:\n",
    "    rkf=RepeatedKFold(n_splits=10, n_repeats=5, random_state=100)\n",
    "    cv_results = cross_val_score(model,x,y,cv=rkf,scoring=scoring)\n",
    "    results.append(cv_results)\n",
    "    names.append(name)\n",
    "    print('{} {:.2f} +/- {:.2f}'.format(name,cv_results.mean(),cv_results.std()))\n",
    "print('\\n')\n",
    "\n",
    "#Boxpot View\n",
    "fig = plt.figure(figsize=(15,10))\n",
    "fig.suptitle('Boxplot View')\n",
    "ax = fig.add_subplot(111)\n",
    "sns.boxplot(data=results)\n",
    "ax.set_xticklabels(names)\n",
    "plt.ylabel('Recall')\n",
    "plt.xlabel('Model')\n",
    "plt.show()"
   ]
  },
  {
   "cell_type": "code",
   "execution_count": 160,
   "id": "dc1ce22a",
   "metadata": {},
   "outputs": [],
   "source": [
    "#Define Gridsearch Function\n",
    "\n",
    "from sklearn.model_selection import GridSearchCV\n",
    "from sklearn.metrics import classification_report, confusion_matrix  \n",
    "\n",
    "def Gridsearch_cv(model, params):\n",
    "    \n",
    "    #Cross-validation Function\n",
    "    cv2=RepeatedKFold(n_splits=10, n_repeats=5, random_state=100)\n",
    "        \n",
    "    #GridSearch CV\n",
    "    gs_clf = GridSearchCV(model, params, cv=cv2,scoring='recall_weighted')\n",
    "    gs_clf = gs_clf.fit(x_train2,y_train_smt)\n",
    "    model = gs_clf.best_estimator_\n",
    "    \n",
    "    # Use best model and test data for final evaluation\n",
    "    predict = model.predict(x_test2)\n",
    "    #Identify Best Parameters to Optimize the Model\n",
    "    bestpara=str(gs_clf.best_params_)\n",
    "    \n",
    "    #Output Heading\n",
    "    print('\\nOptimized Model')\n",
    "    print('\\nModel Name:',str(pipeline.named_steps['clf']))\n",
    "        \n",
    "    #Output Validation Statistics\n",
    "    target_names=['Outcome 0','Outcome 1']\n",
    "    print('\\nBest Parameters:',bestpara)\n",
    "    print('\\n', confusion_matrix(y_test,predict))  \n",
    "    print('\\n',classification_report(y_test,predict,target_names=target_names)) \n",
    "        \n",
    "    #Transform the variables into binary (0,1) - ROC Curve\n",
    "    from sklearn import preprocessing\n",
    "    Forecast1=pd.DataFrame(predict)\n",
    "    Outcome1=pd.DataFrame(y_test)\n",
    "    lb1 = preprocessing.LabelBinarizer()\n",
    "    OutcomeB1 =lb1.fit_transform(Outcome1)\n",
    "    ForecastB1 = lb1.fit_transform(Forecast1)\n",
    "    \n",
    "    #Setup the ROC Curve\n",
    "    from sklearn.metrics import roc_curve, auc\n",
    "    from sklearn import metrics\n",
    "    fpr, tpr, threshold = metrics.roc_curve(OutcomeB1, ForecastB1)\n",
    "    roc_auc = metrics.auc(fpr, tpr)\n",
    "    print('ROC Curve')\n",
    "    #Plot the ROC Curve\n",
    "    plt.title('Receiver Operating Characteristic')\n",
    "    plt.plot(fpr, tpr, 'b', label = 'AUC = %0.2f' % roc_auc)\n",
    "    plt.legend(loc = 'lower right')\n",
    "    plt.plot([0, 1], [0, 1],'r--')\n",
    "    plt.xlim([0, 1])\n",
    "    plt.ylim([0, 1])\n",
    "    plt.ylabel('True Positive Rate')\n",
    "    plt.xlabel('False Positive Rate')\n",
    "    plt.show()   "
   ]
  },
  {
   "cell_type": "code",
   "execution_count": 161,
   "id": "ded2f790",
   "metadata": {},
   "outputs": [
    {
     "name": "stdout",
     "output_type": "stream",
     "text": [
      "\n",
      "Optimized Model\n",
      "\n",
      "Model Name: RandomForestClassifier(random_state=100)\n",
      "\n",
      "Best Parameters: {}\n",
      "\n",
      " [[44  4]\n",
      " [ 3 16]]\n",
      "\n",
      "               precision    recall  f1-score   support\n",
      "\n",
      "   Outcome 0       0.94      0.92      0.93        48\n",
      "   Outcome 1       0.80      0.84      0.82        19\n",
      "\n",
      "    accuracy                           0.90        67\n",
      "   macro avg       0.87      0.88      0.87        67\n",
      "weighted avg       0.90      0.90      0.90        67\n",
      "\n",
      "ROC Curve\n"
     ]
    },
    {
     "data": {
      "image/png": "[encoded data removed]",
      "text/plain": [
       "<Figure size 432x288 with 1 Axes>"
      ]
     },
     "metadata": {
      "needs_background": "light"
     },
     "output_type": "display_data"
    },
    {
     "name": "stdout",
     "output_type": "stream",
     "text": [
      "\n",
      "Optimized Model\n",
      "\n",
      "Model Name: LogisticRegression(class_weight='balanced', max_iter=1000, random_state=100)\n",
      "\n",
      "Best Parameters: {'clf__C': 0.1, 'clf__penalty': 'l2'}\n",
      "\n",
      " [[42  6]\n",
      " [ 3 16]]\n",
      "\n",
      "               precision    recall  f1-score   support\n",
      "\n",
      "   Outcome 0       0.93      0.88      0.90        48\n",
      "   Outcome 1       0.73      0.84      0.78        19\n",
      "\n",
      "    accuracy                           0.87        67\n",
      "   macro avg       0.83      0.86      0.84        67\n",
      "weighted avg       0.87      0.87      0.87        67\n",
      "\n",
      "ROC Curve\n"
     ]
    },
    {
     "data": {
      "image/png": "[encoded data removed]",
      "text/plain": [
       "<Figure size 432x288 with 1 Axes>"
      ]
     },
     "metadata": {
      "needs_background": "light"
     },
     "output_type": "display_data"
    }
   ],
   "source": [
    "#Run Models\n",
    "\n",
    "for pipeline, modelpara in zip(pipeline,modelpara):\n",
    "    Gridsearch_cv(pipeline,modelpara)"
   ]
  },
  {
   "cell_type": "code",
   "execution_count": 162,
   "id": "f569ba81",
   "metadata": {},
   "outputs": [
    {
     "name": "stdout",
     "output_type": "stream",
     "text": [
      "\n",
      "Estimator: Logistic Regression\n",
      "\n",
      " [[42  6]\n",
      " [ 3 16]]\n",
      "              precision    recall  f1-score   support\n",
      "\n",
      "           1       0.93      0.88      0.90        48\n",
      "           2       0.73      0.84      0.78        19\n",
      "\n",
      "    accuracy                           0.87        67\n",
      "   macro avg       0.83      0.86      0.84        67\n",
      "weighted avg       0.87      0.87      0.87        67\n",
      "\n",
      "\n",
      "Estimator: Random Forest\n",
      "\n",
      " [[44  4]\n",
      " [ 3 16]]\n",
      "              precision    recall  f1-score   support\n",
      "\n",
      "           1       0.94      0.92      0.93        48\n",
      "           2       0.80      0.84      0.82        19\n",
      "\n",
      "    accuracy                           0.90        67\n",
      "   macro avg       0.87      0.88      0.87        67\n",
      "weighted avg       0.90      0.90      0.90        67\n",
      "\n",
      "\n",
      "Estimator: GBC\n",
      "\n",
      " [[43  5]\n",
      " [ 3 16]]\n",
      "              precision    recall  f1-score   support\n",
      "\n",
      "           1       0.93      0.90      0.91        48\n",
      "           2       0.76      0.84      0.80        19\n",
      "\n",
      "    accuracy                           0.88        67\n",
      "   macro avg       0.85      0.87      0.86        67\n",
      "weighted avg       0.89      0.88      0.88        67\n",
      "\n"
     ]
    }
   ],
   "source": [
    "#Script for Models\n",
    "\n",
    "from sklearn.metrics import classification_report, confusion_matrix  \n",
    "\n",
    "models2 ={'Logistic Regression':LogisticRegression(solver='lbfgs',\n",
    "                                                   class_weight='balanced',max_iter = 1000,random_state=100),\n",
    "          'Random Forest':RandomForestClassifier(n_estimators=100,random_state=100),\n",
    "          \n",
    "          'GBC':GradientBoostingClassifier(random_state=100)}\n",
    "\n",
    "for name, model in models2.items():\n",
    "    model.fit(x_train2,y_train_smt)\n",
    "    predict = model.predict(x_test2)\n",
    "    print('\\nEstimator: {}'.format(name)) \n",
    "    print('\\n',confusion_matrix(y_test,predict))  \n",
    "    print(classification_report(y_test,predict)) "
   ]
  },
  {
   "cell_type": "code",
   "execution_count": 163,
   "id": "085f059a",
   "metadata": {},
   "outputs": [
    {
     "name": "stdout",
     "output_type": "stream",
     "text": [
      "\n",
      "Voting Model\n",
      "LogisticRegression 0.89\n",
      "RandomForestClassifier 0.85\n",
      "VotingClassifier 0.89\n"
     ]
    }
   ],
   "source": [
    "#Create Voting Model - Sklearn\n",
    "from sklearn.ensemble import VotingClassifier\n",
    "from sklearn.model_selection import RepeatedKFold\n",
    "from sklearn.model_selection import cross_validate\n",
    "\n",
    "estimators = []\n",
    "\n",
    "model1 = LogisticRegression(solver='lbfgs',class_weight='balanced',max_iter=1000,\n",
    "                            random_state=100)\n",
    "estimators.append(('Logistic', model1))\n",
    "\n",
    "model2 = RandomForestClassifier(n_estimators=100,random_state=100)\n",
    "estimators.append(('Random Forest', model2))\n",
    "\n",
    "voting_clf=VotingClassifier(estimators,voting='soft')\n",
    "\n",
    "scoring = {'acc': 'accuracy',\n",
    "           'prec_macro': 'precision_macro',\n",
    "           'rec_macro': 'recall_macro'}\n",
    "print('\\nVoting Model')\n",
    "for clf in (model1,model2,voting_clf):\n",
    "    rkfcv= clf.fit(x_train2,y_train_smt)\n",
    "    ens_rkf1 = RepeatedKFold(n_splits=10, n_repeats=5, random_state=100)\n",
    "    rKFcv = cross_validate(rkfcv, x_2, y, scoring=scoring, cv=ens_rkf1)\n",
    "    print(clf.__class__.__name__,round(rKFcv['test_rec_macro'].mean(),2))   "
   ]
  },
  {
   "cell_type": "code",
   "execution_count": 164,
   "id": "ee3bf996",
   "metadata": {},
   "outputs": [
    {
     "name": "stdout",
     "output_type": "stream",
     "text": [
      "\n",
      "Stacking Model\n",
      "RandomForestClassifier 0.85\n",
      "BaggingClassifier 0.84\n",
      "StackingClassifier 0.87\n"
     ]
    }
   ],
   "source": [
    "#Create Stacking Model-Sklearn\n",
    "from sklearn.ensemble import StackingClassifier\n",
    "from sklearn.ensemble import BaggingClassifier\n",
    "\n",
    "#Identify Models\n",
    "lr = LogisticRegression(solver='lbfgs',class_weight='balanced',max_iter=1000,\n",
    "                        random_state=100)\n",
    "\n",
    "estimators2 = []\n",
    "\n",
    "mod1 = RandomForestClassifier(n_estimators=100,random_state=100)\n",
    "estimators2.append(('Random Forest', mod1))\n",
    "\n",
    "mod2 = BaggingClassifier(random_state=100)\n",
    "estimators2.append(('Bagging', mod2))\n",
    "\n",
    "#Create Stacking Classifier\n",
    "stackmod=StackingClassifier(estimators=estimators2,\n",
    "                             final_estimator=lr)\n",
    "\n",
    "scoring2 = {'acc': 'accuracy',\n",
    "           'prec_macro': 'precision_macro',\n",
    "           'rec_macro': 'recall_macro'}\n",
    "\n",
    "print('\\nStacking Model')\n",
    "for clf in (mod1,mod2,stackmod):\n",
    "    rkfcv2= clf.fit(x_train2,y_train_smt)\n",
    "    ens_rkf2 = RepeatedKFold(n_splits=10, n_repeats=5, random_state=100)\n",
    "    rKFcv2 = cross_validate(rkfcv2, x_2, y, scoring=scoring2, cv=ens_rkf2)\n",
    "    print(clf.__class__.__name__,round(rKFcv2['test_rec_macro'].mean(),2)) "
   ]
  }
 ],
 "metadata": {
  "kernelspec": {
   "display_name": "Python 3",
   "language": "python",
   "name": "python3"
  },
  "language_info": {
   "codemirror_mode": {
    "name": "ipython",
    "version": 3
   },
   "file_extension": ".py",
   "mimetype": "text/x-python",
   "name": "python",
   "nbconvert_exporter": "python",
   "pygments_lexer": "ipython3",
   "version": "3.8.8"
  }
 },
 "nbformat": 4,
 "nbformat_minor": 5
}
